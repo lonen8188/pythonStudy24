{
  "nbformat": 4,
  "nbformat_minor": 0,
  "metadata": {
    "colab": {
      "provenance": [],
      "authorship_tag": "ABX9TyPScYUnalrcjPoSx8ppbkSd",
      "include_colab_link": true
    },
    "kernelspec": {
      "name": "python3",
      "display_name": "Python 3"
    },
    "language_info": {
      "name": "python"
    }
  },
  "cells": [
    {
      "cell_type": "markdown",
      "metadata": {
        "id": "view-in-github",
        "colab_type": "text"
      },
      "source": [
        "<a href=\"https://colab.research.google.com/github/lonen8188/pythonStudy24/blob/master/classExam.ipynb\" target=\"_parent\"><img src=\"https://colab.research.google.com/assets/colab-badge.svg\" alt=\"Open In Colab\"/></a>"
      ]
    },
    {
      "cell_type": "markdown",
      "source": [
        "# 클래스는 객체지향 언어의 필수로 각각의 객체를 담당한다.\n",
        "\n",
        "# 만약 shopingMall 프로젝트를 만든다고 하면\n",
        "# 회원용.py -> 동작(메서드) C, R, U, D , other\n",
        "# 아이템.py -> 동작(메서드) C, R, U, D , other\n",
        "# 게시판.py -> 동작(메서드) C, R, U, D , other\n",
        "# 장바구니.py -> 동작(메서드) C, R, U, D , other\n",
        "# main.py와 연동되게 설정한다."
      ],
      "metadata": {
        "id": "YwsXpDA5imKB"
      }
    },
    {
      "cell_type": "code",
      "execution_count": 1,
      "metadata": {
        "colab": {
          "base_uri": "https://localhost:8080/"
        },
        "id": "Hmi74xzzib0o",
        "outputId": "2c964d9b-8f35-4a5a-85f8-0cd107867375"
      },
      "outputs": [
        {
          "output_type": "stream",
          "name": "stdout",
          "text": [
            "4\n"
          ]
        }
      ],
      "source": [
        "# 계산기 처리용 클래스\n",
        "result = 0              # 결과값 처리용 변수\n",
        "\n",
        "def add(num) :\n",
        "    global result       # 전역변수 사용\n",
        "    result += num       # 메서드에 입력값을 더함\n",
        "    return result       # 결과를 보냄\n",
        "\n",
        "print(add(4))           # 위에 만든 메서드에 4를 입력하고 리턴값을 출력\n"
      ]
    },
    {
      "cell_type": "code",
      "source": [
        "print(add(9))"
      ],
      "metadata": {
        "colab": {
          "base_uri": "https://localhost:8080/"
        },
        "id": "0DWkCEYgk4tQ",
        "outputId": "9c4c3457-55f3-4d06-ff4b-f710ccf73328"
      },
      "execution_count": 2,
      "outputs": [
        {
          "output_type": "stream",
          "name": "stdout",
          "text": [
            "13\n"
          ]
        }
      ]
    },
    {
      "cell_type": "code",
      "source": [
        "# 만일 한 프로그램에서 2대의 계산기가 필요한 상황이면?\n",
        "\n",
        "result1 = 0\n",
        "result2 = 0\n",
        "\n",
        "def add1(num) :\n",
        "    global result1\n",
        "    result1 += num\n",
        "    return result1\n",
        "\n",
        "def add2(num) :\n",
        "    global result2\n",
        "    result2 += num\n",
        "    return result2\n"
      ],
      "metadata": {
        "id": "FZI2zhIglLAH"
      },
      "execution_count": null,
      "outputs": []
    },
    {
      "cell_type": "code",
      "source": [
        "# 클래스를 이용한 계산기\n",
        "\n",
        "class Calculator :      # 객체 생성용 (생성자용메서드, 일반메서드)\n",
        "\n",
        "    def __init__(self) :    # 생성자 (객체 생성시 0순위로 처리 됨)\n",
        "        self.result = 0     # 객체 자신에 result변수를 만들고 0값을 넣음\n",
        "\n",
        "    def add(self, num) :    # 객체용 메서드\n",
        "        self.result += num  # 생성자에 있는 변수에 num을 누적합 저장\n",
        "        return self.result  # 결과를 리턴함."
      ],
      "metadata": {
        "id": "CaMkIXVzmBfP"
      },
      "execution_count": 3,
      "outputs": []
    },
    {
      "cell_type": "code",
      "source": [
        "# 객체를 생성함 변수에 연결 (java : Calculator cal1 = new Calculator())\n",
        "\n",
        "cal1 = Calculator()     # 객체 1\n",
        "cal2 = Calculator()     # 객체 2\n",
        "\n",
        "print(cal1.add(3))      # 1번 계산기"
      ],
      "metadata": {
        "colab": {
          "base_uri": "https://localhost:8080/"
        },
        "id": "3TId9_gmnRpf",
        "outputId": "ae6e0acc-0bb9-49d3-b1b6-957bf8bd1a02"
      },
      "execution_count": 4,
      "outputs": [
        {
          "output_type": "stream",
          "name": "stdout",
          "text": [
            "3\n"
          ]
        }
      ]
    },
    {
      "cell_type": "code",
      "source": [
        "print(cal2.add(9))      # 2번 계산기"
      ],
      "metadata": {
        "colab": {
          "base_uri": "https://localhost:8080/"
        },
        "id": "h_5SkzG-n0aX",
        "outputId": "aef4ae92-21c8-4130-dbb2-797580a3bbef"
      },
      "execution_count": 5,
      "outputs": [
        {
          "output_type": "stream",
          "name": "stdout",
          "text": [
            "9\n"
          ]
        }
      ]
    },
    {
      "cell_type": "code",
      "source": [
        "print(cal1.add(9))      # 1번 계산기"
      ],
      "metadata": {
        "colab": {
          "base_uri": "https://localhost:8080/"
        },
        "id": "kujc11PAn-_A",
        "outputId": "bec3726e-8472-411d-e958-758b731c6bf5"
      },
      "execution_count": 6,
      "outputs": [
        {
          "output_type": "stream",
          "name": "stdout",
          "text": [
            "12\n"
          ]
        }
      ]
    },
    {
      "cell_type": "code",
      "source": [
        "print(cal2.add(10))     # 2번 계산기"
      ],
      "metadata": {
        "colab": {
          "base_uri": "https://localhost:8080/"
        },
        "id": "C8oqjONhoB4Y",
        "outputId": "0090a6e5-cd08-4043-9a47-901180b92e6e"
      },
      "execution_count": 7,
      "outputs": [
        {
          "output_type": "stream",
          "name": "stdout",
          "text": [
            "19\n"
          ]
        }
      ]
    },
    {
      "cell_type": "code",
      "source": [
        "# 클래스를 활용한 사칙연산 계산기 만들기\n",
        "\n",
        "class FourCal :\n",
        "    #pass            # 아무기능없이 동작\n",
        "    # 필드 : 객체마다 가지고 있어야 할 데이터들 (dto, vo)\n",
        "    first = 0\n",
        "    second = 0\n",
        "\n",
        "    # 생성자 : 객체를 생성할때 필요한 무언가?? (생성자의 이름은 __init__ )\n",
        "    def __init__(self, first, second):\n",
        "        self.first = first\n",
        "        self.second = second\n",
        "\n",
        "    def setdate(self, first, second):       # 메서드 선언(self 필수)\n",
        "        self.first = first                  # this.first = first\n",
        "        self.second = second                # this.second = second\n",
        "\n",
        "    def add(self) :\n",
        "        result = self.first + self.second\n",
        "        return result\n",
        "\n",
        "    def mul(self) :\n",
        "        result = self.first * self.second\n",
        "        return result\n",
        "\n",
        "    def sub(self) :\n",
        "        result = self.first - self.second\n",
        "        return result\n",
        "\n",
        "    def divmod(self) :\n",
        "        result = self.first / self.second\n",
        "        return result"
      ],
      "metadata": {
        "id": "wUw0bR50p0w4"
      },
      "execution_count": 24,
      "outputs": []
    },
    {
      "cell_type": "code",
      "source": [
        "a = FourCal()           # a 변수에 객체가 연결됨\n",
        "a.setdate(4, 2)         # a 변수를 self로 처리함"
      ],
      "metadata": {
        "id": "EwxqTtDBqGlv"
      },
      "execution_count": 15,
      "outputs": []
    },
    {
      "cell_type": "code",
      "source": [
        "b = FourCal()\n",
        "FourCal.setdate(b, 4, 2)"
      ],
      "metadata": {
        "id": "TcLyU5dkuYrO"
      },
      "execution_count": 18,
      "outputs": []
    },
    {
      "cell_type": "code",
      "source": [
        "print (a.first)"
      ],
      "metadata": {
        "colab": {
          "base_uri": "https://localhost:8080/"
        },
        "id": "sZUXWUDWu4Dm",
        "outputId": "e3218699-4a64-4489-99e6-f7ac61d21c57"
      },
      "execution_count": 16,
      "outputs": [
        {
          "output_type": "stream",
          "name": "stdout",
          "text": [
            "4\n"
          ]
        }
      ]
    },
    {
      "cell_type": "code",
      "source": [
        "print (b.second)"
      ],
      "metadata": {
        "colab": {
          "base_uri": "https://localhost:8080/"
        },
        "id": "AS586hfbu-j-",
        "outputId": "fa844aa2-66e1-480c-c607-6201028fae7f"
      },
      "execution_count": 19,
      "outputs": [
        {
          "output_type": "stream",
          "name": "stdout",
          "text": [
            "2\n"
          ]
        }
      ]
    },
    {
      "cell_type": "code",
      "source": [
        "c = FourCal()\n",
        "c.setdate(5,5)\n",
        "c.mul()"
      ],
      "metadata": {
        "colab": {
          "base_uri": "https://localhost:8080/"
        },
        "id": "FXm_Z1tjwRDP",
        "outputId": "d57a0d59-de55-4e1d-8085-3aba9227cb79"
      },
      "execution_count": 22,
      "outputs": [
        {
          "output_type": "execute_result",
          "data": {
            "text/plain": [
              "25"
            ]
          },
          "metadata": {},
          "execution_count": 22
        }
      ]
    },
    {
      "cell_type": "code",
      "source": [
        "d = FourCal(5,5)\n",
        "d.add()"
      ],
      "metadata": {
        "colab": {
          "base_uri": "https://localhost:8080/"
        },
        "id": "wnKH6Ng4wox_",
        "outputId": "b70684fc-d331-48fa-ec30-9bdf97bbf1d6"
      },
      "execution_count": 26,
      "outputs": [
        {
          "output_type": "execute_result",
          "data": {
            "text/plain": [
              "10"
            ]
          },
          "metadata": {},
          "execution_count": 26
        }
      ]
    },
    {
      "cell_type": "code",
      "source": [
        "# 상속 기능 : 부모가 만든 객체를 보완, 추가하는 기능\n",
        "\n",
        "class MoreFourCal(FourCal) :        # 객체생성시(부모객체)\n",
        "\n",
        "    def pow(self):\n",
        "        result = self.first ** self.second\n",
        "        return result\n",
        "\n",
        "    # 오버라이딩 : 부모가 만든 메서드를 변경하여 사용함\n",
        "    def divmod(self) :\n",
        "        if self.second == 0 :\n",
        "            return 0\n",
        "        else :\n",
        "            return self.first / self.second"
      ],
      "metadata": {
        "id": "F0xbSNYwyKE-"
      },
      "execution_count": 34,
      "outputs": []
    },
    {
      "cell_type": "code",
      "source": [
        "e = MoreFourCal(4,4)\n",
        "e.pow()"
      ],
      "metadata": {
        "colab": {
          "base_uri": "https://localhost:8080/"
        },
        "id": "zDKX0wM5zgLt",
        "outputId": "3c4d3427-fab1-462f-d5c0-dafcefec3dcf"
      },
      "execution_count": 31,
      "outputs": [
        {
          "output_type": "execute_result",
          "data": {
            "text/plain": [
              "256"
            ]
          },
          "metadata": {},
          "execution_count": 31
        }
      ]
    },
    {
      "cell_type": "code",
      "source": [
        "f = MoreFourCal(4,0)\n",
        "f.divmod()"
      ],
      "metadata": {
        "colab": {
          "base_uri": "https://localhost:8080/"
        },
        "id": "2j2hHUj-01v9",
        "outputId": "7fbdbfe5-0aae-47b0-a9ac-e63e605a59f1"
      },
      "execution_count": 35,
      "outputs": [
        {
          "output_type": "execute_result",
          "data": {
            "text/plain": [
              "0"
            ]
          },
          "metadata": {},
          "execution_count": 35
        }
      ]
    }
  ]
}