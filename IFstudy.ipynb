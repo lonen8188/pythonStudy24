{
  "nbformat": 4,
  "nbformat_minor": 0,
  "metadata": {
    "colab": {
      "provenance": [],
      "authorship_tag": "ABX9TyMBOTtLoiTMr7rpgZMjJynQ",
      "include_colab_link": true
    },
    "kernelspec": {
      "name": "python3",
      "display_name": "Python 3"
    },
    "language_info": {
      "name": "python"
    }
  },
  "cells": [
    {
      "cell_type": "markdown",
      "metadata": {
        "id": "view-in-github",
        "colab_type": "text"
      },
      "source": [
        "<a href=\"https://colab.research.google.com/github/lonen8188/pythonStudy24/blob/master/IFstudy.ipynb\" target=\"_parent\"><img src=\"https://colab.research.google.com/assets/colab-badge.svg\" alt=\"Open In Colab\"/></a>"
      ]
    },
    {
      "cell_type": "markdown",
      "source": [
        "프로그램의 판단을 할 수 있는 조건문인 if를 사용해본다.\n",
        "\n",
        "if문은 만약에 라는 의미를 가지고 있고 결과는 참, 거짓으로 판단한다."
      ],
      "metadata": {
        "id": "WSoHYPVKnw_H"
      }
    },
    {
      "cell_type": "code",
      "execution_count": 3,
      "metadata": {
        "colab": {
          "base_uri": "https://localhost:8080/"
        },
        "id": "6Qy0JfvMnpJw",
        "outputId": "98efe2fc-4f77-4b32-8834-a20f79eda940"
      },
      "outputs": [
        {
          "output_type": "stream",
          "name": "stdout",
          "text": [
            "=============\n",
            "걸어가라\n",
            "=============\n"
          ]
        }
      ],
      "source": [
        "# 돈이 있으면 택시를 타고 가고, 돈이 없으면 걸어간다.\n",
        "\n",
        "money = False      # 돈이 있으면\n",
        "if money:         # 파이썬에는 {} 없기 때문에 : 으로 구문을 내림\n",
        "    print(\"택시를 타고 가라\")   # True일때 처리 (하위 처리를 위해서 띄어쓰기 4번을 진행)\n",
        "    print(\"모범택시는 비싸니 다음 택시를 기다리라\")\n",
        "    print(\"택시가 안보이면 카카오택시를 불러라\")\n",
        "else:             #             # False 일때 처리\n",
        "    print(\"=============\")\n",
        "    print(\"걸어가라\")           # False 용 명령\n",
        "    print(\"=============\")"
      ]
    },
    {
      "cell_type": "code",
      "source": [
        "money = 6000\n",
        "if money >= 3000 :             # if 뒤에 써지는 문장이 조건이 됨 :\n",
        "    print(\"택시를 타고 가라\")  # True\n",
        "else:\n",
        "    print(\"걸어가라\")          # False"
      ],
      "metadata": {
        "colab": {
          "base_uri": "https://localhost:8080/"
        },
        "id": "HY-WKW2Kv22t",
        "outputId": "b0f409e5-9b3b-4420-ddbd-9b0d3daaf0ce"
      },
      "execution_count": 5,
      "outputs": [
        {
          "output_type": "stream",
          "name": "stdout",
          "text": [
            "택시를 타고 가라\n"
          ]
        }
      ]
    },
    {
      "cell_type": "code",
      "source": [
        "from typing import Tuple\n",
        "# x or y  ->  또는 ( 둘중 하나만 참이어도 참 )\n",
        "# x and y -> ~이고 ( 둘다 참이어야 참)\n",
        "# not x   -> x가 아니면 참(거짓, 반전)\n",
        "\n",
        "# 돈이 3000원 이상 있거나 카드가 있다면 택시를 타고 가고, 아니면 걸어가라\n",
        "\n",
        "money = 2000\n",
        "card = True\n",
        "\n",
        "if money >= 3000 or card:\n",
        "    print(\"택시를 타고 가라\")\n",
        "else:\n",
        "    print(\"걸어가라\")\n",
        "\n",
        "# or 연산 진리표\n",
        "# money   or   card    =    결과\n",
        "#   0            0     =     0\n",
        "#   1            0     =     1\n",
        "#   0            1     =     1\n",
        "#   1            1     =     1\n",
        "\n"
      ],
      "metadata": {
        "id": "_vQOQ2OOwagF"
      },
      "execution_count": null,
      "outputs": []
    },
    {
      "cell_type": "code",
      "source": [
        "# in           , not in\n",
        "# x in 리스트  , x not in 리스트\n",
        "# x in 튜플    , x not in 튜플\n",
        "# x in 문자열  , x not in 문자열\n",
        "\n",
        "1 not in [1, 2, 3]    # 리스트"
      ],
      "metadata": {
        "colab": {
          "base_uri": "https://localhost:8080/"
        },
        "id": "1L2YHxhvy6Z9",
        "outputId": "74c6c0cc-0746-4703-fe34-56ed2094d446"
      },
      "execution_count": 7,
      "outputs": [
        {
          "output_type": "execute_result",
          "data": {
            "text/plain": [
              "False"
            ]
          },
          "metadata": {},
          "execution_count": 7
        }
      ]
    },
    {
      "cell_type": "code",
      "source": [
        "'a' in ('a', 'b', 'c')  # 튜플"
      ],
      "metadata": {
        "colab": {
          "base_uri": "https://localhost:8080/"
        },
        "id": "1hZLto5-znzV",
        "outputId": "fef9c152-ef49-4faa-b571-e2018c3e4966"
      },
      "execution_count": 8,
      "outputs": [
        {
          "output_type": "execute_result",
          "data": {
            "text/plain": [
              "True"
            ]
          },
          "metadata": {},
          "execution_count": 8
        }
      ]
    },
    {
      "cell_type": "code",
      "source": [
        "'j' not in 'python'"
      ],
      "metadata": {
        "colab": {
          "base_uri": "https://localhost:8080/"
        },
        "id": "6jKXPYZsz1JM",
        "outputId": "6b1eefaa-1412-4680-c01a-9af13769f08b"
      },
      "execution_count": 9,
      "outputs": [
        {
          "output_type": "execute_result",
          "data": {
            "text/plain": [
              "True"
            ]
          },
          "metadata": {},
          "execution_count": 9
        }
      ]
    },
    {
      "cell_type": "code",
      "source": [
        "# 만약 주머니에 돈이 있으면 택시를 타고가고, 없으면 걸어가라\n",
        "pocket = ['paper', 'cellphone', 'money']\n",
        "\n",
        "if 'money' in pocket :\n",
        "    print(\"택시를 타고 가라\")\n",
        "else:\n",
        "    print(\"걸어가라\")"
      ],
      "metadata": {
        "colab": {
          "base_uri": "https://localhost:8080/"
        },
        "id": "jwiqALGo2gz8",
        "outputId": "63880968-9558-4839-a3d4-55e49c7d6f04"
      },
      "execution_count": 11,
      "outputs": [
        {
          "output_type": "stream",
          "name": "stdout",
          "text": [
            "택시를 타고 가라\n"
          ]
        }
      ]
    },
    {
      "cell_type": "code",
      "source": [
        "# 조건문에서 아무 일도 하지 않게 설정하고 싶을 때 pass\n",
        "# 조건문의 참, 거짓에 따라 실행할 행동을 정의할 때나 아무런 일도 하지 않도록 설정하고 싶을 때\n",
        "\n",
        "# 주머니에 돈이 있으면 가만히 있고, 주머니에 돈이 없으면 카드를 꺼내라.\n",
        "\n",
        "pocket = ['paper', 'smartPhone', 'card']\n",
        "\n",
        "if 'money' in pocket:\n",
        "    pass            # skip 같은 의미\n",
        "else :\n",
        "    print(\"카드를 꺼내라\")"
      ],
      "metadata": {
        "colab": {
          "base_uri": "https://localhost:8080/"
        },
        "id": "Nqeg9d7J3EEh",
        "outputId": "1d87508e-0591-4afa-8a30-b7619a63e430"
      },
      "execution_count": 14,
      "outputs": [
        {
          "output_type": "stream",
          "name": "stdout",
          "text": [
            "카드를 꺼내라\n"
          ]
        }
      ]
    },
    {
      "cell_type": "code",
      "source": [
        "# elif는 if문 아래쪽에 한번 더 비교하는 조건문 (elif의 사용회수는 무제한)\n",
        "\n",
        "# 주머니에 돈이 있으면 택시를 타고 가고,\n",
        "# 주머니에 돈은 없지만 카드가 있으면 택시를 타고 가고,\n",
        "# 주머니에 돈도 없고 카드도 없으면 걸어가라.\n",
        "\n",
        "pocket = ['paper', 'cellphone']\n",
        "card = True\n",
        "\n",
        "if 'money' in pocket:\n",
        "    print(\"택시를 타고 가라\")\n",
        "elif card:\n",
        "    print(\"택시를 타고 가라\")\n",
        "else:\n",
        "    print(\"걸어가라\")"
      ],
      "metadata": {
        "colab": {
          "base_uri": "https://localhost:8080/"
        },
        "id": "6QVeH37J7UN8",
        "outputId": "c7ca5f68-391a-4f3a-be24-107e759052f7"
      },
      "execution_count": 15,
      "outputs": [
        {
          "output_type": "stream",
          "name": "stdout",
          "text": [
            "택시를 타고 가라\n"
          ]
        }
      ]
    },
    {
      "cell_type": "code",
      "source": [
        "# 패션코딩 -> 최대한 간결하게 코딩하는 기법\n",
        "\n",
        "pocket = ['paper', 'cellphone']\n",
        "card = True\n",
        "\n",
        "if 'money' in pocket: print(\"택시를 타고 가라\")\n",
        "elif card: print(\"택시를 타고 가라\")\n",
        "else: print(\"걸어가라\")"
      ],
      "metadata": {
        "colab": {
          "base_uri": "https://localhost:8080/"
        },
        "id": "w5VlAhdR-6l7",
        "outputId": "67a664ff-eec2-4329-8aa7-939927c6c52f"
      },
      "execution_count": 16,
      "outputs": [
        {
          "output_type": "stream",
          "name": "stdout",
          "text": [
            "택시를 타고 가라\n"
          ]
        }
      ]
    },
    {
      "cell_type": "code",
      "source": [
        "# 시험 점수가 60점 이상이면 success, 아니면 failure를 변수에 담아 출력 해보자."
      ],
      "metadata": {
        "id": "If5MhyhL_TRz"
      },
      "execution_count": 17,
      "outputs": []
    },
    {
      "cell_type": "code",
      "source": [
        "score = 88\n",
        "\n",
        "if score >= 60:\n",
        "    message = \"success\"\n",
        "else:\n",
        "    message = \"failure\"\n",
        "\n",
        "print(message)\n"
      ],
      "metadata": {
        "colab": {
          "base_uri": "https://localhost:8080/"
        },
        "id": "ieOKyuy1_cVf",
        "outputId": "dc5e02d6-9a7e-4c9a-f3a2-65b2410bf2d0"
      },
      "execution_count": 18,
      "outputs": [
        {
          "output_type": "stream",
          "name": "stdout",
          "text": [
            "success\n"
          ]
        }
      ]
    },
    {
      "cell_type": "code",
      "source": [
        "# 파이썬의 조건부 표현식\n",
        "# 변수 = 참인경우의값 if 조건문 else 거짓인경의값\n",
        "message = \"success\" if score >= 60 else \"failure\"\n",
        "print(message)\n"
      ],
      "metadata": {
        "colab": {
          "base_uri": "https://localhost:8080/"
        },
        "id": "Rkr-VPL1_3Fy",
        "outputId": "94dbb8b7-77fc-4e3f-9840-cd90a8277278"
      },
      "execution_count": 19,
      "outputs": [
        {
          "output_type": "stream",
          "name": "stdout",
          "text": [
            "success\n"
          ]
        }
      ]
    },
    {
      "cell_type": "code",
      "source": [
        "# 미션\n",
        "# 성적처리용 코드 작성 a등급~ f등급까지 출력\n",
        "\n",
        "score = int(input(\"점수를 입력하세요!!!!\"))"
      ],
      "metadata": {
        "colab": {
          "base_uri": "https://localhost:8080/"
        },
        "id": "EJKoHsR1A6R7",
        "outputId": "79d8b3ea-f582-4bb0-bee8-a5eeaa32ad0a"
      },
      "execution_count": 22,
      "outputs": [
        {
          "name": "stdout",
          "output_type": "stream",
          "text": [
            "점수를 입력하세요!!!!50\n"
          ]
        }
      ]
    }
  ]
}